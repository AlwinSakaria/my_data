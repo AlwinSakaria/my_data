{
 "cells": [
  {
   "cell_type": "code",
   "execution_count": null,
   "id": "a14720ac",
   "metadata": {
    "scrolled": true
   },
   "outputs": [],
   "source": [
    "import tkinter as tk\n",
    "\n",
    "def add_numbers(): \n",
    "num1 = int(entry1.get())\n",
    "num2 = int(entry2.get())\n",
    "result = num1 + num2   \n",
    "result_label.config(text=\"Result: \" + str(result))\n",
    "        \n",
    "                                        \n",
    "# create a new tkinter window\n",
    "Window = tk.Tk()               \n",
    "Window.title(\"Add numbers\")\n",
    "          \n",
    "# create two input fields and a button\n",
    "entry1 = tk.Entry(Window)\n",
    "entry1.pack()\n",
    "entry2 = tk.Entry(Window)\n",
    "entry2.pack() \n",
    "add_button = tk.Button(Window, text=\"Add\",command=add_numbers)\n",
    "add_button.pack()\n",
    "result_label = tk.Label(Window)\n",
    "result_label.pack()\n",
    "            \n",
    "Window.mainloop()\n",
    "        \n",
    "        "
   ]
  },
  {
   "cell_type": "code",
   "execution_count": null,
   "id": "b4e59ad5",
   "metadata": {},
   "outputs": [],
   "source": []
  },
  {
   "cell_type": "code",
   "execution_count": null,
   "id": "f0dfa725",
   "metadata": {},
   "outputs": [],
   "source": []
  },
  {
   "cell_type": "code",
   "execution_count": null,
   "id": "d5574212",
   "metadata": {},
   "outputs": [],
   "source": []
  },
  {
   "cell_type": "code",
   "execution_count": null,
   "id": "4b3e7dee",
   "metadata": {},
   "outputs": [],
   "source": []
  },
  {
   "cell_type": "code",
   "execution_count": null,
   "id": "32d6df8d",
   "metadata": {},
   "outputs": [],
   "source": []
  },
  {
   "cell_type": "code",
   "execution_count": null,
   "id": "a6b2c7bb",
   "metadata": {},
   "outputs": [],
   "source": []
  },
  {
   "cell_type": "code",
   "execution_count": null,
   "id": "c3733dff",
   "metadata": {},
   "outputs": [],
   "source": []
  }
 ],
 "metadata": {
  "kernelspec": {
   "display_name": "Python 3 (ipykernel)",
   "language": "python",
   "name": "python3"
  },
  "language_info": {
   "codemirror_mode": {
    "name": "ipython",
    "version": 3
   },
   "file_extension": ".py",
   "mimetype": "text/x-python",
   "name": "python",
   "nbconvert_exporter": "python",
   "pygments_lexer": "ipython3",
   "version": "3.10.9"
  }
 },
 "nbformat": 4,
 "nbformat_minor": 5
}
